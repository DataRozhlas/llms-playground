{
 "cells": [
  {
   "cell_type": "code",
   "execution_count": 1,
   "id": "c42c2cea",
   "metadata": {},
   "outputs": [],
   "source": [
    "import time"
   ]
  },
  {
   "cell_type": "code",
   "execution_count": 2,
   "id": "e49441a2",
   "metadata": {},
   "outputs": [],
   "source": [
    "import ollama"
   ]
  },
  {
   "cell_type": "code",
   "execution_count": 3,
   "id": "3d76e8c8",
   "metadata": {},
   "outputs": [],
   "source": [
    "local_llms = [\n",
    "    'mistral', 'llama2', 'llama2:13b', 'mistral-openorca', 'vicuna', 'solar'\n",
    "]"
   ]
  },
  {
   "cell_type": "code",
   "execution_count": 4,
   "id": "41f97019",
   "metadata": {},
   "outputs": [],
   "source": [
    "systemovy_prompt = 'Jsi redaktorka se skvělým všeobecným přehledem a vynikající znalostí českého jazyka. Na dotazy a úkoly reaguješ spisovnou češtinou, zdvořile a co nejstručněji.'"
   ]
  },
  {
   "cell_type": "code",
   "execution_count": 5,
   "id": "c0765a60",
   "metadata": {},
   "outputs": [],
   "source": [
    "zadani = [f\"\"\"Na základě následujícího článku odpověz na následující otázky:\n",
    "\n",
    "1/ Jak se jmenuje výzkumná série sledující situaci ukrajinských uprchlíků v Česku?\n",
    "2/ Kolik uprchlíků z Ukrajiny dnes pobývá v Česku?\n",
    "3/ Jaký konkrétní graf by mohl článek vhodně doplnit na webu? Měl by být přehledný, informativní a dobře ilustrovat hlavní sdělení.\n",
    "4/ Jaká informace může v článku chybět běžnému čtenáři či čtenářce?\n",
    "5/ Které instituce výzkum finančně podporují?\n",
    "\n",
    "ČLÁNEK=\\\"\\\"\\\"Po dvou letech od začátku války na Ukrajině zůstává v Česku přibližně 310 tisíc uprchlíků. Přes polovinu z nich chce zůstat minimálně další dva roky, ukazuje poslední vlna výzkumu Hlas Ukrajinců v Česku. Jde zhruba o 180 tisíc lidí. Ani u ostatních nelze vzhledem k přetrvávající válce očekávat, že se většinově na Ukrajinu v blízké době vrátí. Musíme se proto i nadále soustředit na dlouhodobou integraci, z níž profituje celá společnost. \n",
    "\n",
    "V roce 2023 se mnohé podařilo. Velká část dětí navštěvuje české školy. Významně přibylo uprchlíků, kteří v Česku pracují. Vzrostl podíl domácností, které bydlí v nájmech.\n",
    "\n",
    "Co se naopak zatím nedaří, je využívat na pracovním trhu často vysokou kvalifikace uprchlíků. Šest z deseti pracuje pod svou kvalifikací a stejný podíl pracuje ve špatných pracovních podmínkách. To je nevýhodné pro uprchlíky, kteří v nízkokvalifikovaných pracích pobírají nízké mzdy a často trpí příjmovou chudobou. Tratí na tom ale i stát, který přichází o velké částky na odvodech a daních. \n",
    "\n",
    "Mezi nejdůležitější výzvy patří prohlubování znalosti češtiny u dospělých i dětí. To znamená neustrnout na nižších jazykových úrovních, které neumožňují plnohodnotnou integraci. \n",
    "\n",
    "Jaké další výzvy Česko čekají? Jaká opatření mají potenciál integraci pozitivně ovlivnit? Co se může stát, když integraci podceníme? Odpovědi nabízí souhrnný report Integrace ukrajinských uprchlíků: 2 roky poté a výhled na 2024+.  Stahujte jej jako PDF.\n",
    "\n",
    "Situaci uprchlíků od června 2022 dlouhodobě sledujeme ve výzkumné sérii Hlas Ukrajinců v Česku. Výzkum probíhá online dotazováním na panelu uprchlíků z Ukrajiny, kteří přijeli do Česka mezi únorem 2022 a dubnem 2023. Proběhlo dosud sedm vln měření. Panel vytvořil a Sociologický ústav Akademie věd ČR ve spolupráci s Ministerstvem práce a sociálních věcí ČR.\n",
    "\n",
    "Poslední čtyři vlny výzkumu od podzimu 2022 stejně jako produkci tohoto souhrnného reportu technicky a finančně podpořila Kancelář UNICEF pro podporu řešení uprchlické situace v České republice. Zaměření výzkumu je také konzultováno s  Ministerstvem práce a sociálních věcí ČR a Ministerstvem školství, mládeže a tělovýchovy ČR.\\\"\\\"\\\"\"\"\"]"
   ]
  },
  {
   "cell_type": "code",
   "execution_count": 6,
   "id": "ae85e3ff",
   "metadata": {},
   "outputs": [
    {
     "name": "stdout",
     "output_type": "stream",
     "text": [
      "NA ZÁKLADĚ NÁSLEDUJÍCÍHO ČLÁNKU ODPOVĚZ NA NÁSLEDUJÍCÍ OTÁZKY:\n",
      "\n",
      "1/ JAK SE JMENUJE VÝZKUMNÁ SÉRIE SLEDUJÍCÍ SITUACI UKRAJINSKÝCH UPRCHLÍKŮ V ČESKU?\n",
      "2/ KOLIK UPRCHLÍKŮ Z UKRAJINY DNES POBÝVÁ V ČESKU?\n",
      "3/ JAKÝ KONKRÉTNÍ GRAF BY MOHL ČLÁNEK VHODNĚ DOPLNIT NA WEBU? MĚL BY BÝT PŘEHLEDNÝ, INFORMATIVNÍ A DOBŘE ILUSTROVAT HLAVNÍ SDĚLENÍ.\n",
      "4/ JAKÁ INFORMACE MŮŽE V ČLÁNKU CHYBĚT BĚŽNÉMU ČTENÁŘI ČI ČTENÁŘCE?\n",
      "5/ KTERÉ INSTITUCE VÝZKUM FINANČNĚ PODPORUJÍ?\n",
      "\n",
      "ČLÁNEK=\"\"\"PO DVOU LETECH OD ZAČÁTKU VÁLKY NA UKRAJINĚ ZŮSTÁVÁ V ČESKU PŘIBLIŽNĚ 310 TISÍC UPRCHLÍKŮ. PŘES POLOVINU Z NICH CHCE ZŮSTAT MINIMÁLNĚ DALŠÍ DVA ROKY, UKAZUJE POSLEDNÍ VLNA VÝZKUMU HLAS UKRAJINCŮ V ČESKU. JDE ZHRUBA O 180 TISÍC LIDÍ. ANI U OSTATNÍCH NELZE VZHLEDEM K PŘETRVÁVAJÍCÍ VÁLCE OČEKÁVAT, ŽE SE VĚTŠINOVĚ NA UKRAJINU V BLÍZKÉ DOBĚ VRÁTÍ. MUSÍME SE PROTO I NADÁLE SOUSTŘEDIT NA DLOUHODOBOU INTEGRACI, Z NÍŽ PROFITUJE CELÁ SPOLEČNOST. \n",
      "\n",
      "V ROCE 2023 SE MNOHÉ PODAŘILO. VELKÁ ČÁST DĚTÍ NAVŠTĚVUJE ČESKÉ ŠKOLY. VÝZNAMNĚ PŘIBYLO UPRCHLÍKŮ, KTEŘÍ V ČESKU PRACUJÍ. VZROSTL PODÍL DOMÁCNOSTÍ, KTERÉ BYDLÍ V NÁJMECH.\n",
      "\n",
      "CO SE NAOPAK ZATÍM NEDAŘÍ, JE VYUŽÍVAT NA PRACOVNÍM TRHU ČASTO VYSOKOU KVALIFIKACE UPRCHLÍKŮ. ŠEST Z DESETI PRACUJE POD SVOU KVALIFIKACÍ A STEJNÝ PODÍL PRACUJE VE ŠPATNÝCH PRACOVNÍCH PODMÍNKÁCH. TO JE NEVÝHODNÉ PRO UPRCHLÍKY, KTEŘÍ V NÍZKOKVALIFIKOVANÝCH PRACÍCH POBÍRAJÍ NÍZKÉ MZDY A ČASTO TRPÍ PŘÍJMOVOU CHUDOBOU. TRATÍ NA TOM ALE I STÁT, KTERÝ PŘICHÁZÍ O VELKÉ ČÁSTKY NA ODVODECH A DANÍCH. \n",
      "\n",
      "MEZI NEJDŮLEŽITĚJŠÍ VÝZVY PATŘÍ PROHLUBOVÁNÍ ZNALOSTI ČEŠTINY U DOSPĚLÝCH I DĚTÍ. TO ZNAMENÁ NEUSTRNOUT NA NIŽŠÍCH JAZYKOVÝCH ÚROVNÍCH, KTERÉ NEUMOŽŇUJÍ PLNOHODNOTNOU INTEGRACI. \n",
      "\n",
      "JAKÉ DALŠÍ VÝZVY ČESKO ČEKAJÍ? JAKÁ OPATŘENÍ MAJÍ POTENCIÁL INTEGRACI POZITIVNĚ OVLIVNIT? CO SE MŮŽE STÁT, KDYŽ INTEGRACI PODCENÍME? ODPOVĚDI NABÍZÍ SOUHRNNÝ REPORT INTEGRACE UKRAJINSKÝCH UPRCHLÍKŮ: 2 ROKY POTÉ A VÝHLED NA 2024+.  STAHUJTE JEJ JAKO PDF.\n",
      "\n",
      "SITUACI UPRCHLÍKŮ OD ČERVNA 2022 DLOUHODOBĚ SLEDUJEME VE VÝZKUMNÉ SÉRII HLAS UKRAJINCŮ V ČESKU. VÝZKUM PROBÍHÁ ONLINE DOTAZOVÁNÍM NA PANELU UPRCHLÍKŮ Z UKRAJINY, KTEŘÍ PŘIJELI DO ČESKA MEZI ÚNOREM 2022 A DUBNEM 2023. PROBĚHLO DOSUD SEDM VLN MĚŘENÍ. PANEL VYTVOŘIL A SOCIOLOGICKÝ ÚSTAV AKADEMIE VĚD ČR VE SPOLUPRÁCI S MINISTERSTVEM PRÁCE A SOCIÁLNÍCH VĚCÍ ČR.\n",
      "\n",
      "POSLEDNÍ ČTYŘI VLNY VÝZKUMU OD PODZIMU 2022 STEJNĚ JAKO PRODUKCI TOHOTO SOUHRNNÉHO REPORTU TECHNICKY A FINANČNĚ PODPOŘILA KANCELÁŘ UNICEF PRO PODPORU ŘEŠENÍ UPRCHLICKÉ SITUACE V ČESKÉ REPUBLICE. ZAMĚŘENÍ VÝZKUMU JE TAKÉ KONZULTOVÁNO S  MINISTERSTVEM PRÁCE A SOCIÁLNÍCH VĚCÍ ČR A MINISTERSTVEM ŠKOLSTVÍ, MLÁDEŽE A TĚLOVÝCHOVY ČR.\"\"\"\n",
      "\n",
      "MISTRAL (498.09 s)\n",
      "\n",
      " 1. Seriál výzkumu se jmenuje \"Hlas Ukrajinců v Česku\".\n",
      "2. Podle textu článku přibližně 310 tisíc uprchlíků z Ukrajiny dnes žije v Česku.\n",
      "3. Graf, který by článek doplnil na webu, mohl být graficky zachycením počtu ukrajinských uprchlíků v Česku od počátku konfliktu až do současnosti, s rozdělením podle kategorií (například podle pohlaví, věkové skupiny, oblasti původu atd.). Graf by mohl být i grafem vývoje situace ukrajinských uprchlíků ve školství, na trhu práce nebo v podmínkách bydlení.\n",
      "4. Čtenář může chybět informace o dětské populationi ukrajinských uprchlíků a jejich situaci ve Školství v Česku, o aktuálních politických iniciativách či opatřeních v rámci integrace ukrajinských uprchlíků do společnosti nebo o finanční pomoci, kterou nabídne česká vláda nebo mezinárodní organizace pro integraci a podporu ukrajinských uprchlíků.\n",
      "5. Kancelář UNICEF pro podporu řešení uprchlické situace v České republice finančně podporuje výzkum Hlas Ukrajinců v Česku. Ministrovství práce a sociálních věcí ČR a Ministerstvo školství, mládeže a tělovýchovy ČR jsou zastoupeni jako partnerové organizace ve spolupráci s Sociologickým ústavem Akademie věd ČR.\n",
      "\n",
      "LLAMA2 (714.97 s)\n",
      "\n",
      "\n",
      "1. The research series \"Voices of Ukrainians in the Czech Republic\" (Hlas Ukrajinců v Česku) has been following the situation of Ukrainian refugees in the Czech Republic since June 2022. The study is conducted online among a panel of Ukrainians who arrived in the Czech Republic between February and April 2022. Seven waves of the survey have been conducted so far, with the latest four waves taking place in the autumn of 2022. The project is led by the Sociological Institute of the Academy of Sciences of the Czech Republic in cooperation with the Ministry of Labor and Social Affairs of the Czech Republic, and has received financial and technical support from UNICEF's Office for the Resolution of Refugee Situations in the Czech Republic.\n",
      "2. Approximately 310,000 Ukrainians are currently living in the Czech Republic, with around half of them planning to stay for at least two more years. According to the latest wave of the survey conducted in the autumn of 2022, about 180,000 people are involved.\n",
      "3. To provide a comprehensive overview of the situation, the article could benefit from additional graphics, such as:\n",
      "\t* A pie chart or bar graph showing the distribution of Ukrainians by length of stay in the Czech Republic (e.g., less than 6 months, 6-12 months, more than 12 months)\n",
      "\t* A line graph or bar chart showing the number of Ukrainians arriving in the Czech Republic over time (since the beginning of the conflict in February 2022)\n",
      "\t* A map or geographical representation of the regions where Ukrainians are most likely to settle in the Czech Republic (e.g., Prague, Central Bohemia, South Moravia)\n",
      "4. The article could benefit from more information on the following topics:\n",
      "\t* The demographic characteristics of the Ukrainians in the Czech Republic, such as age, gender, education level, and occupation\n",
      "\t* The living conditions of Ukrainians in the Czech Republic, including housing, employment, and access to healthcare and other services\n",
      "\t* The social integration of Ukrainians in the Czech Republic, including their experiences with discrimination, social exclusion, and access to language courses and other forms of support\n",
      "5. Several institutions are financially supporting the research, including:\n",
      "\t* The Ministry of Labor and Social Affairs of the Czech Republic\n",
      "\t* The Ministry of Education, Youth and Sports of the Czech Republic\n",
      "\t* UNICEF's Office for the Resolution of Refugee Situations in the Czech Republic\n",
      "\n",
      "LLAMA2:13B (1932.21 s)\n",
      "\n",
      "\n",
      "1/ The research series following the situation of Ukrainian refugees in the Czech Republic is called \"Hlas Ukrajinců v Česku\" (Voice of Ukrainians in the Czech Republic).\n",
      "2/ According to the latest wave of the survey, there are approximately 310,000 Ukrainian refugees currently living in the Czech Republic.\n",
      "3/ A graph showing the number of Ukrainian refugees in the Czech Republic over time, as well as their distribution by region or age group, could be a useful addition to the article.\n",
      "4/ Information that may be missing from the article for a general reader could include more details about the living conditions and daily struggles of Ukrainian refugees in the Czech Republic, as well as the specific challenges they face in terms of employment and education.\n",
      "5/ The article mentions that the state provides financial support to upright Ukrainians, but it would be useful to provide more information about the specific programs and resources available to help them integrate into Czech society.\n",
      "\n",
      "As a redaktorka se skvělým všeobecným přehledem a vynikající znalostí českého jazyka, I can provide answers to these questions based on the provided article:\n",
      "\n",
      "1/ The name of the research series following the situation of Ukrainian refugees in the Czech Republic is \"Hlas Ukrajinců v Česku\" (Voice of Ukrainians in the Czech Republic).\n",
      "2/ According to the latest wave of the survey, there are approximately 310,000 Ukrainian refugees currently living in the Czech Republic.\n",
      "3/ A graph showing the number of Ukrainian refugees in the Czech Republic over time, as well as their distribution by region or age group, could be a useful addition to the article to provide a more comprehensive overview of the situation.\n",
      "4/ To provide a more complete picture of the challenges faced by Ukrainian refugees in the Czech Republic, the article could benefit from including more details about their living conditions and daily struggles, as well as specific examples of the difficulties they face in terms of employment and education.\n",
      "5/ The article mentions that the state provides financial support to upright Ukrainians, but it would be useful to provide more information about the specific programs and resources available to help them integrate into Czech society. For example, the article could mention the government's efforts to provide language training and job placement services for Ukrainian refugees.\n",
      "\n"
     ]
    },
    {
     "name": "stdout",
     "output_type": "stream",
     "text": [
      "MISTRAL-OPENORCA (472.05 s)\n",
      "\n",
      " 1/ Výzkumná série se jmenuje Hlas Ukrajinců v Česku.\n",
      "2/ Dnes pobývá v Česku přibližovaně 310 tisíc uprchlíků z Ukrajiny.\n",
      "3/ Graf mohl ilustrovat hlavní sdělení o integraci ukrajinských uprchlíků do české společnosti, jako například podíl uprchlíků ve špatných pracovních podmínkách nebo rozvoj jejich kvalifikace.\n",
      "4/ Běžný čtenář či čtenářka by mohla chybět informace o tom, jak se integrace ukrajinských uprchlíků do české společnosti vyvíjí a jaké problémy související s tím mají.\n",
      "5/ Instituce financující výzkum zahrnují Ministerstvo práce a sociálních věcí ČR, Kancelář UNICEF pro podporu řešení uprchlické situace v České republice a Sociologický ústav Akademie věd ČR\n",
      "\n",
      "VICUNA (439.0 s)\n",
      "\n",
      "1/ Výzkumná série sledující situaci ukrajinských uprchlíků v Česku se jmenuje \"Hlas Ukrajinců v Česku\".\n",
      "2/ Kolem 310 tisíc uprchlíků z Ukrajiny dnes pobývá v Česku.\n",
      "3/ Graf, který by mohl článku doplnit na webu, by byl přehledný a informativní, jakýmby zobrazoval stav uprchlíků podle regionů nebo měst. Mohl by také obsahovat data o počtu uprchlíků, kteří se vzdali svého zaměstnání nebo se přihlásili na trvalé bydlení.\n",
      "4/ Chybět mohou běžní čtenáři či čtenářky informace o situaci uprchlíků v jiných zemích, např. v Evropě. Je též důležité zaznamenat, že i přestože mnoho uprchlíků v Česku pracuje, stále existují problémy s trvalým pobytem a integrací do společnosti.\n",
      "5/ Institutem, které výzkum finančně podporuje, je Sociologický ústav Akademie věd ČR ve spolupráci s Ministerstvem práce a sociálních věcí ČR.\n",
      "\n",
      "SOLAR (197.34 s)\n",
      "\n",
      "1/ The series of research following the situation of Ukrainian refugees in the Czech Republic is named \"Hlas Ukrajinců v Česku\" (Voice of Ukrainians in the Czech Republic).\n",
      "2/ Today, around 310 thousand Ukrainian refugees are staying in the Czech Republic.\n",
      "3/ An appropriate graph for the web could depict the percentage of Ukrainian refugees planning to stay for at least two more years (approximately 58% or 180 thousand individuals) and the percentage remaining in low-qualification jobs under their actual qualifications (6 out of 10). The graph should also illustrate the percentage of refugees facing poor working conditions.\n",
      "4/ A regular reader might find useful information regarding the specific funding agencies supporting the \"Hlas Ukrajinců v Česku\" research series or details about integration programs and challenges in areas such as education, housing, and employment for Ukrainian refugees in the Czech Republic.\n",
      "5/ The Kancelář UNICEF (UNICEF Office) for Supporting the Resolution of the Refugee Situation in the Czech Republic provided technical and financial support for the last four waves of research and production of the summary report mentioned in the article. Further details about other financial supporters aren't explicitly stated in the given text.\n",
      "\n"
     ]
    }
   ],
   "source": [
    "for o in zadani:\n",
    "    print(f\"{o.upper()}\\n\")\n",
    "    for m in local_llms:\n",
    "        modelfile=f\"\"\"\n",
    "FROM {m}\n",
    "SYSTEM {systemovy_prompt}\n",
    "\"\"\"\n",
    "        ollama.create(model='example', modelfile=modelfile)\n",
    "\n",
    "        start_time = time.time()\n",
    "        response = ollama.chat(model='example', messages=[{'role': 'user','content': f'''{o}''',},])\n",
    "        stopky = time.time() - start_time\n",
    "        print(f\"{m.upper()} ({round(stopky,2)} s)\\n\")\n",
    "        print(f\"{response['message']['content']}\\n\")"
   ]
  }
 ],
 "metadata": {
  "kernelspec": {
   "display_name": "Python 3 (ipykernel)",
   "language": "python",
   "name": "python3"
  },
  "language_info": {
   "codemirror_mode": {
    "name": "ipython",
    "version": 3
   },
   "file_extension": ".py",
   "mimetype": "text/x-python",
   "name": "python",
   "nbconvert_exporter": "python",
   "pygments_lexer": "ipython3",
   "version": "3.11.5"
  }
 },
 "nbformat": 4,
 "nbformat_minor": 5
}
