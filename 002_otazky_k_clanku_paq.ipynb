{
 "cells": [
  {
   "cell_type": "code",
   "execution_count": 2,
   "id": "c4af5fda",
   "metadata": {},
   "outputs": [],
   "source": [
    "import time"
   ]
  },
  {
   "cell_type": "code",
   "execution_count": 3,
   "id": "7cdc1e00",
   "metadata": {},
   "outputs": [],
   "source": [
    "import ollama"
   ]
  },
  {
   "cell_type": "code",
   "execution_count": 4,
   "id": "6b598cdb",
   "metadata": {},
   "outputs": [],
   "source": [
    "local_llms = [\n",
    "    'mistral', 'llama2', 'llama2:13b', 'mistral-openorca', 'vicuna', 'solar'\n",
    "]"
   ]
  },
  {
   "cell_type": "code",
   "execution_count": 5,
   "id": "dfd5c7ae",
   "metadata": {},
   "outputs": [],
   "source": [
    "systemovy_prompt = 'Jsi redaktorka se skvělým všeobecným přehledem a vynikající znalostí českého jazyka. Na dotazy a úkoly reaguješ spisovnou češtinou, zdvořile a co nejstručněji.'"
   ]
  },
  {
   "cell_type": "code",
   "execution_count": 6,
   "id": "8d4fd857",
   "metadata": {},
   "outputs": [],
   "source": [
    "zadani = [f\"\"\"Na základě následujícího článku odpověz na následující otázky:\n",
    "\n",
    "1/ Jak se jmenuje výzkumná série sledující situaci ukrajinských uprchlíků v Česku?\n",
    "2/ Kolik uprchlíků z Ukrajiny dnes pobývá v Česku?\n",
    "3/ Jaký konkrétní graf by mohl článek vhodně doplnit na webu? Měl by být přehledný, informativní a dobře ilustrovat hlavní sdělení.\n",
    "4/ Jaká informace může v článku chybět běžnému čtenáři či čtenářce?\n",
    "5/ Které instituce výzkum finančně podporují?\n",
    "\n",
    "ČLÁNEK=\\\"\\\"\\\"Po dvou letech od začátku války na Ukrajině zůstává v Česku přibližně 310 tisíc uprchlíků. Přes polovinu z nich chce zůstat minimálně další dva roky, ukazuje poslední vlna výzkumu Hlas Ukrajinců v Česku. Jde zhruba o 180 tisíc lidí. Ani u ostatních nelze vzhledem k přetrvávající válce očekávat, že se většinově na Ukrajinu v blízké době vrátí. Musíme se proto i nadále soustředit na dlouhodobou integraci, z níž profituje celá společnost. \n",
    "\n",
    "V roce 2023 se mnohé podařilo. Velká část dětí navštěvuje české školy. Významně přibylo uprchlíků, kteří v Česku pracují. Vzrostl podíl domácností, které bydlí v nájmech.\n",
    "\n",
    "Co se naopak zatím nedaří, je využívat na pracovním trhu často vysokou kvalifikace uprchlíků. Šest z deseti pracuje pod svou kvalifikací a stejný podíl pracuje ve špatných pracovních podmínkách. To je nevýhodné pro uprchlíky, kteří v nízkokvalifikovaných pracích pobírají nízké mzdy a často trpí příjmovou chudobou. Tratí na tom ale i stát, který přichází o velké částky na odvodech a daních. \n",
    "\n",
    "Mezi nejdůležitější výzvy patří prohlubování znalosti češtiny u dospělých i dětí. To znamená neustrnout na nižších jazykových úrovních, které neumožňují plnohodnotnou integraci. \n",
    "\n",
    "Jaké další výzvy Česko čekají? Jaká opatření mají potenciál integraci pozitivně ovlivnit? Co se může stát, když integraci podceníme? Odpovědi nabízí souhrnný report Integrace ukrajinských uprchlíků: 2 roky poté a výhled na 2024+.  Stahujte jej jako PDF.\n",
    "\n",
    "Situaci uprchlíků od června 2022 dlouhodobě sledujeme ve výzkumné sérii Hlas Ukrajinců v Česku. Výzkum probíhá online dotazováním na panelu uprchlíků z Ukrajiny, kteří přijeli do Česka mezi únorem 2022 a dubnem 2023. Proběhlo dosud sedm vln měření. Panel vytvořil a Sociologický ústav Akademie věd ČR ve spolupráci s Ministerstvem práce a sociálních věcí ČR.\n",
    "\n",
    "Poslední čtyři vlny výzkumu od podzimu 2022 stejně jako produkci tohoto souhrnného reportu technicky a finančně podpořila Kancelář UNICEF pro podporu řešení uprchlické situace v České republice. Zaměření výzkumu je také konzultováno s  Ministerstvem práce a sociálních věcí ČR a Ministerstvem školství, mládeže a tělovýchovy ČR.\\\"\\\"\\\"\"\"\"]"
   ]
  },
  {
   "cell_type": "code",
   "execution_count": null,
   "id": "f60a5dd6",
   "metadata": {},
   "outputs": [],
   "source": [
    "for o in zadani:\n",
    "    print(f\"{o.upper()}\\n\")\n",
    "    for m in local_llms:\n",
    "        modelfile=f\"\"\"\n",
    "FROM {m}\n",
    "SYSTEM {systemovy_prompt}\n",
    "\"\"\"\n",
    "        ollama.create(model='example', modelfile=modelfile)\n",
    "\n",
    "        start_time = time.time()\n",
    "        response = ollama.chat(model='example', messages=[{'role': 'user','content': f'''{o}''',},])\n",
    "        stopky = time.time() - start_time\n",
    "        print(f\"{m.upper()} ({round(stopky,2)} s)\\n\")\n",
    "        print(f\"{response['message']['content']}\\n\")"
   ]
  }
 ],
 "metadata": {
  "kernelspec": {
   "display_name": "Python 3 (ipykernel)",
   "language": "python",
   "name": "python3"
  },
  "language_info": {
   "codemirror_mode": {
    "name": "ipython",
    "version": 3
   },
   "file_extension": ".py",
   "mimetype": "text/x-python",
   "name": "python",
   "nbconvert_exporter": "python",
   "pygments_lexer": "ipython3",
   "version": "3.11.5"
  }
 },
 "nbformat": 4,
 "nbformat_minor": 5
}
