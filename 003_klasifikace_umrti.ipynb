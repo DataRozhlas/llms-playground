{
 "cells": [
  {
   "cell_type": "markdown",
   "id": "5701d768",
   "metadata": {},
   "source": [
    "Prototyp strojové rešerše pro článek o životních drahách závodních jezdců pro iROZHLAS.cz."
   ]
  },
  {
   "cell_type": "code",
   "execution_count": 2,
   "id": "337532b5",
   "metadata": {},
   "outputs": [],
   "source": [
    "import time"
   ]
  },
  {
   "cell_type": "code",
   "execution_count": 3,
   "id": "41061b49",
   "metadata": {},
   "outputs": [],
   "source": [
    "import ollama"
   ]
  },
  {
   "cell_type": "code",
   "execution_count": 4,
   "id": "d8ac993f",
   "metadata": {},
   "outputs": [],
   "source": [
    "local_llms = [\n",
    "    'mistral', 'llama2', 'llama2:13b', 'mistral-openorca', 'vicuna', 'solar'\n",
    "]"
   ]
  },
  {
   "cell_type": "code",
   "execution_count": 5,
   "id": "db39a76a",
   "metadata": {},
   "outputs": [],
   "source": [
    "systemovy_prompt = \"You are a research assistant helping me with text classification. Your answers are truthful, solid, and well-thought-out. Please provide concise responses. If you don't have enough data to answer my question, be honest and tell me you need more information.\""
   ]
  },
  {
   "cell_type": "code",
   "execution_count": 6,
   "id": "b18e99c8",
   "metadata": {},
   "outputs": [],
   "source": [
    "otazky = [\"\"\"The following is a description of the death of a racing driver. Based solely on the description, I would like you to choose one of the following answers:\n",
    "\n",
    "1. The driver died of natural causes.\n",
    "2. The driver died in a racing crash. If possible, please mention the name of the racing series.\n",
    "3. The driver died in a road traffic accident.\n",
    "4. The driver died in a different type of accident unrelated to motor vehicles.\n",
    "\n",
    "The depiction of the death:\n",
    "\n",
    "\\\"\\\"\\\"Bellof was racing at the 1000 km of Spa World Sportscar Championship race at the Spa-Francorchamps circuit in Belgium on 1 September 1985,[5] the seventh race of that season's championship. Bellof was making his fourth appearance of 1985 in the series. Partnering Thierry Boutsen as he had done in his other appearances during the season, their Brun-Porsche 956B-116 would start the race from third on the grid, 0.86 seconds adrift of the pole position-winning Lancia LC2.\n",
    "\n",
    "On lap 78, Bellof was racing Jacky Ickx's works Porsche 962C from the La Source hairpin on the run to Eau Rouge corner. Both drivers had just commenced their stints in their respective cars after Boutsen and Jochen Mass started them. Entering the left kink of Eau Rouge, Bellof moved to the left of Ickx in an attempt to set up a pass for the immediate right-hand Raidillon corner up the hill. This created a side draft on Ickx’s 962C, which pulled to the left in an instant, enough to bring Bellof’s right front into contact with Ickx’s left rear, sending both cars hurtling away from each other. Ickx’s car spun, and as he desperately tried to recover it, it spun so that the right rear of the car impacted the barriers, likely saving his life as the force of the impact pushed him back into his seat. Bellof, on the other hand, crashed directly into the barriers at unabated speed with his left front corner, breaking through and hitting a secondary wall. The Brun Porsche caught fire moments after the wreck, while Ickx – able to climb unaided from his car – attempted to help safety workers in extricating Bellof. During the caution period, members of the Brun team also arrived to aid in the rescue. With smoke pouring from the wreckage, the emergency medical team struggled for over 10 minutes before extricating him. Bellof was pronounced dead of massive internal injuries after he had reached the track hospital.[28] [29]\n",
    "\n",
    "Out of respect for Bellof, the race organisers chose to end the event some 150 km earlier than planned. The entire incident was recorded on an in-car camera that Ickx's 962C was carrying. Even after the accident, the camera continued to work, and was pointed in the direction of Bellof's wreckage.[30] The accident involving Bellof was the second in the space of three weeks in which a driver was killed at the wheel of a Porsche. At the previous World Sportscar race at Mosport Park in Canada, fellow West German and F1 driver Manfred Winkelhock died of severe head trauma after crashing into a concrete wall while at the wheel of a Kremer Racing-run Porsche 962C.[31] Many of the customer teams had concerns with using the 956 for the remainder of the season, and the 956 was eventually withdrawn from the series by the end of the 1986 season, taking victory on its final start at the 1000 km of Fuji.\\\"\\\"\\\"\"\"\",\n",
    "         \"\"\"The following is a description of the death of a racing driver. Based solely on the description, I would like you to choose one of the following answers:\n",
    "\n",
    "1. The driver died of natural causes.\n",
    "2. The driver died in a racing crash. If possible, please mention the name of the racing series.\n",
    "3. The driver died in a road traffic accident.\n",
    "4. The driver died in a different type of accident unrelated to motor vehicles.\n",
    "\n",
    "The depiction of the death:\n",
    "\n",
    "\\\"\\\"\\\"In 1986, after he was able to walk with both legs unaided, it looked as if Pironi would make a comeback when he tested for the French AGS team at Circuit Paul Ricard, and subsequently the Ligier JS27 at Dijon-Prenois. He proved that he was still fast enough to be competitive, but coming back to F1 was not truly practical due to the extent of his injuries. A return to F1 was further complicated by his insurance payout being based on the premise of sustaining career-ending injuries; Pironi would be required to pay the money back to his insurer should he return to the sport.[17]\n",
    "\n",
    "Pironi decided to turn to offshore powerboat racing instead. On 23 August 1987, Pironi was killed in an accident in the Needles Trophy Race near the Isle of Wight, that also took the life of his two crew members: journalist Bernard Giroux and his old friend Jean-Claude Guénard. Their boat, Colibri 4, rode over a rough wave caused by an oil tanker, causing the boat to flip over.[18]\n",
    "\n",
    "After Pironi's death, his girlfriend Catherine Goux gave birth to twins. In honour of Pironi and Gilles Villeneuve, she named them Didier and Gilles. In 2014 Gilles Pironi joined Mercedes AMG Petronas as an engineer.[19][20] Gilles stood on the podium at the 2020 British Grand Prix, receiving the constructor's trophy.[21]\\\"\\\"\\\"\"\"\"]"
   ]
  },
  {
   "cell_type": "code",
   "execution_count": 7,
   "id": "f0bf7abc",
   "metadata": {},
   "outputs": [
    {
     "name": "stdout",
     "output_type": "stream",
     "text": [
      "THE FOLLOWING IS A DESCRIPTION OF THE DEATH OF A RACING DRIVER. BASED SOLELY ON THE DESCRIPTION, I WOULD LIKE YOU TO CHOOSE ONE OF THE FOLLOWING ANSWERS:\n",
      "\n",
      "1. THE DRIVER DIED OF NATURAL CAUSES.\n",
      "2. THE DRIVER DIED IN A RACING CRASH. IF POSSIBLE, PLEASE MENTION THE NAME OF THE RACING SERIES.\n",
      "3. THE DRIVER DIED IN A ROAD TRAFFIC ACCIDENT.\n",
      "4. THE DRIVER DIED IN A DIFFERENT TYPE OF ACCIDENT UNRELATED TO MOTOR VEHICLES.\n",
      "\n",
      "THE DEPICTION OF THE DEATH:\n",
      "\n",
      "\"\"\"BELLOF WAS RACING AT THE 1000 KM OF SPA WORLD SPORTSCAR CHAMPIONSHIP RACE AT THE SPA-FRANCORCHAMPS CIRCUIT IN BELGIUM ON 1 SEPTEMBER 1985,[5] THE SEVENTH RACE OF THAT SEASON'S CHAMPIONSHIP. BELLOF WAS MAKING HIS FOURTH APPEARANCE OF 1985 IN THE SERIES. PARTNERING THIERRY BOUTSEN AS HE HAD DONE IN HIS OTHER APPEARANCES DURING THE SEASON, THEIR BRUN-PORSCHE 956B-116 WOULD START THE RACE FROM THIRD ON THE GRID, 0.86 SECONDS ADRIFT OF THE POLE POSITION-WINNING LANCIA LC2.\n",
      "\n",
      "ON LAP 78, BELLOF WAS RACING JACKY ICKX'S WORKS PORSCHE 962C FROM THE LA SOURCE HAIRPIN ON THE RUN TO EAU ROUGE CORNER. BOTH DRIVERS HAD JUST COMMENCED THEIR STINTS IN THEIR RESPECTIVE CARS AFTER BOUTSEN AND JOCHEN MASS STARTED THEM. ENTERING THE LEFT KINK OF EAU ROUGE, BELLOF MOVED TO THE LEFT OF ICKX IN AN ATTEMPT TO SET UP A PASS FOR THE IMMEDIATE RIGHT-HAND RAIDILLON CORNER UP THE HILL. THIS CREATED A SIDE DRAFT ON ICKX’S 962C, WHICH PULLED TO THE LEFT IN AN INSTANT, ENOUGH TO BRING BELLOF’S RIGHT FRONT INTO CONTACT WITH ICKX’S LEFT REAR, SENDING BOTH CARS HURTLING AWAY FROM EACH OTHER. ICKX’S CAR SPUN, AND AS HE DESPERATELY TRIED TO RECOVER IT, IT SPUN SO THAT THE RIGHT REAR OF THE CAR IMPACTED THE BARRIERS, LIKELY SAVING HIS LIFE AS THE FORCE OF THE IMPACT PUSHED HIM BACK INTO HIS SEAT. BELLOF, ON THE OTHER HAND, CRASHED DIRECTLY INTO THE BARRIERS AT UNABATED SPEED WITH HIS LEFT FRONT CORNER, BREAKING THROUGH AND HITTING A SECONDARY WALL. THE BRUN PORSCHE CAUGHT FIRE MOMENTS AFTER THE WRECK, WHILE ICKX – ABLE TO CLIMB UNAIDED FROM HIS CAR – ATTEMPTED TO HELP SAFETY WORKERS IN EXTRICATING BELLOF. DURING THE CAUTION PERIOD, MEMBERS OF THE BRUN TEAM ALSO ARRIVED TO AID IN THE RESCUE. WITH SMOKE POURING FROM THE WRECKAGE, THE EMERGENCY MEDICAL TEAM STRUGGLED FOR OVER 10 MINUTES BEFORE EXTRICATING HIM. BELLOF WAS PRONOUNCED DEAD OF MASSIVE INTERNAL INJURIES AFTER HE HAD REACHED THE TRACK HOSPITAL.[28] [29]\n",
      "\n",
      "OUT OF RESPECT FOR BELLOF, THE RACE ORGANISERS CHOSE TO END THE EVENT SOME 150 KM EARLIER THAN PLANNED. THE ENTIRE INCIDENT WAS RECORDED ON AN IN-CAR CAMERA THAT ICKX'S 962C WAS CARRYING. EVEN AFTER THE ACCIDENT, THE CAMERA CONTINUED TO WORK, AND WAS POINTED IN THE DIRECTION OF BELLOF'S WRECKAGE.[30] THE ACCIDENT INVOLVING BELLOF WAS THE SECOND IN THE SPACE OF THREE WEEKS IN WHICH A DRIVER WAS KILLED AT THE WHEEL OF A PORSCHE. AT THE PREVIOUS WORLD SPORTSCAR RACE AT MOSPORT PARK IN CANADA, FELLOW WEST GERMAN AND F1 DRIVER MANFRED WINKELHOCK DIED OF SEVERE HEAD TRAUMA AFTER CRASHING INTO A CONCRETE WALL WHILE AT THE WHEEL OF A KREMER RACING-RUN PORSCHE 962C.[31] MANY OF THE CUSTOMER TEAMS HAD CONCERNS WITH USING THE 956 FOR THE REMAINDER OF THE SEASON, AND THE 956 WAS EVENTUALLY WITHDRAWN FROM THE SERIES BY THE END OF THE 1986 SEASON, TAKING VICTORY ON ITS FINAL START AT THE 1000 KM OF FUJI.\"\"\"\n",
      "\n",
      "MISTRAL (233.1 s)\n",
      "\n",
      " The driver died in a racing crash (World Sportscar Championship).\n",
      "\n",
      "LLAMA2 (72.39 s)\n",
      "\n",
      "\n",
      "Based on the description provided, I would answer choice 2: The driver died in a racing crash. The accident occurred during the 1000 km of Spa World Sportscar Championship race at the Spa-Francorchamps circuit in Belgium on September 1, 1985.\n",
      "\n",
      "LLAMA2:13B (443.33 s)\n",
      "\n",
      "\n",
      "Based on the description provided, I would choose answer 2: The driver died in a racing crash. The passage describes the death of the driver, Jochen Mass, during a racing event at the Spa-Francorchamps circuit in Belgium on September 1, 1985. It states that he was involved in an accident with another driver, Jacky Ickx, and that his car crashed into the barriers, causing him to suffer massive internal injuries. The race was ended early out of respect for Mass.\n",
      "\n",
      "MISTRAL-OPENORCA (320.81 s)\n",
      "\n",
      " The driver died in a racing crash during the 1000 km of Spa World Sportscar Championship race.\n",
      "\n",
      "VICUNA (323.2 s)\n",
      "\n",
      "The driver died in a racing crash. The name of the racing series is not mentioned in the description, but it can be inferred to be a World Sportscar Championship race as it mentions Spa-Francorchamps circuit in Belgium and the year 1985.\n",
      "\n",
      "SOLAR (472.72 s)\n",
      "\n",
      "2. The driver (Bellof) died in a racing crash. The name of the racing series is the World Sportscar Championship.\n",
      "\n",
      "THE FOLLOWING IS A DESCRIPTION OF THE DEATH OF A RACING DRIVER. BASED SOLELY ON THE DESCRIPTION, I WOULD LIKE YOU TO CHOOSE ONE OF THE FOLLOWING ANSWERS:\n",
      "\n",
      "1. THE DRIVER DIED OF NATURAL CAUSES.\n",
      "2. THE DRIVER DIED IN A RACING CRASH. IF POSSIBLE, PLEASE MENTION THE NAME OF THE RACING SERIES.\n",
      "3. THE DRIVER DIED IN A ROAD TRAFFIC ACCIDENT.\n",
      "4. THE DRIVER DIED IN A DIFFERENT TYPE OF ACCIDENT UNRELATED TO MOTOR VEHICLES.\n",
      "\n",
      "THE DEPICTION OF THE DEATH:\n",
      "\n",
      "\"\"\"IN 1986, AFTER HE WAS ABLE TO WALK WITH BOTH LEGS UNAIDED, IT LOOKED AS IF PIRONI WOULD MAKE A COMEBACK WHEN HE TESTED FOR THE FRENCH AGS TEAM AT CIRCUIT PAUL RICARD, AND SUBSEQUENTLY THE LIGIER JS27 AT DIJON-PRENOIS. HE PROVED THAT HE WAS STILL FAST ENOUGH TO BE COMPETITIVE, BUT COMING BACK TO F1 WAS NOT TRULY PRACTICAL DUE TO THE EXTENT OF HIS INJURIES. A RETURN TO F1 WAS FURTHER COMPLICATED BY HIS INSURANCE PAYOUT BEING BASED ON THE PREMISE OF SUSTAINING CAREER-ENDING INJURIES; PIRONI WOULD BE REQUIRED TO PAY THE MONEY BACK TO HIS INSURER SHOULD HE RETURN TO THE SPORT.[17]\n",
      "\n",
      "PIRONI DECIDED TO TURN TO OFFSHORE POWERBOAT RACING INSTEAD. ON 23 AUGUST 1987, PIRONI WAS KILLED IN AN ACCIDENT IN THE NEEDLES TROPHY RACE NEAR THE ISLE OF WIGHT, THAT ALSO TOOK THE LIFE OF HIS TWO CREW MEMBERS: JOURNALIST BERNARD GIROUX AND HIS OLD FRIEND JEAN-CLAUDE GUÉNARD. THEIR BOAT, COLIBRI 4, RODE OVER A ROUGH WAVE CAUSED BY AN OIL TANKER, CAUSING THE BOAT TO FLIP OVER.[18]\n",
      "\n",
      "AFTER PIRONI'S DEATH, HIS GIRLFRIEND CATHERINE GOUX GAVE BIRTH TO TWINS. IN HONOUR OF PIRONI AND GILLES VILLENEUVE, SHE NAMED THEM DIDIER AND GILLES. IN 2014 GILLES PIRONI JOINED MERCEDES AMG PETRONAS AS AN ENGINEER.[19][20] GILLES STOOD ON THE PODIUM AT THE 2020 BRITISH GRAND PRIX, RECEIVING THE CONSTRUCTOR'S TROPHY.[21]\"\"\"\n",
      "\n",
      "MISTRAL (172.84 s)\n",
      "\n",
      " The driver died in a different type of accident unrelated to motor vehicles. The accident occurred in powerboat racing.\n",
      "\n",
      "LLAMA2 (177.21 s)\n",
      "\n",
      "\n",
      "Based on the description provided, I would choose answer option 2: The driver died in a racing crash. The text specifically mentions that Pironi was killed in an accident during the Needles Trophy Race near the Isle of Wight.\n",
      "\n",
      "LLAMA2:13B (350.91 s)\n",
      "\n",
      "\n",
      "Based on the description provided, I would choose answer 3: The driver died in a road traffic accident. The description states that Pironi was killed in an accident during an offshore powerboat race, which is a type of road traffic accident.\n",
      "\n",
      "MISTRAL-OPENORCA (175.36 s)\n",
      "\n",
      " 2. The driver died in a racing crash. In this case, the racing series is offshore powerboat racing.\n",
      "\n",
      "VICUNA (221.91 s)\n",
      "\n",
      "Based on the description provided, it is likely that the driver died in a racing crash. It is stated that he tested for the French AGS team and Ligier JS27 before his death, which suggests that he was still involved in motorsports at the time of his accident. Additionally, the mention of offshore powerboat racing indicates that he was likely pursuing a different type of racing or high-speed driving at the time of his death. However, without more specific information, it is difficult to determine the exact cause of the accident.\n",
      "\n",
      "SOLAR (285.61 s)\n",
      "\n",
      "2. The driver died in a racing crash. In this specific case, the racing series was offshore powerboat racing, with the particular incident being the Needles Trophy Race near the Isle of Wight.\n",
      "\n"
     ]
    }
   ],
   "source": [
    "for o in otazky:\n",
    "    print(f\"{o.upper()}\\n\")\n",
    "    for m in local_llms:\n",
    "        modelfile=f\"\"\"\n",
    "FROM {m}\n",
    "SYSTEM {systemovy_prompt}\n",
    "\"\"\"\n",
    "        ollama.create(model='example', modelfile=modelfile)\n",
    "\n",
    "        start_time = time.time()\n",
    "        response = ollama.chat(model='example', messages=[{'role': 'user','content': f'''{o}''',},])\n",
    "        stopky = time.time() - start_time\n",
    "        print(f\"{m.upper()} ({round(stopky,2)} s)\\n\")\n",
    "        print(f\"{response['message']['content']}\\n\")"
   ]
  }
 ],
 "metadata": {
  "kernelspec": {
   "display_name": "Python 3 (ipykernel)",
   "language": "python",
   "name": "python3"
  },
  "language_info": {
   "codemirror_mode": {
    "name": "ipython",
    "version": 3
   },
   "file_extension": ".py",
   "mimetype": "text/x-python",
   "name": "python",
   "nbconvert_exporter": "python",
   "pygments_lexer": "ipython3",
   "version": "3.11.5"
  }
 },
 "nbformat": 4,
 "nbformat_minor": 5
}
